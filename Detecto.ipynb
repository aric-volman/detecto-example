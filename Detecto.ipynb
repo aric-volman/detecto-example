{
  "nbformat": 4,
  "nbformat_minor": 0,
  "metadata": {
    "colab": {
      "provenance": [],
      "gpuType": "T4",
      "private_outputs": true
    },
    "kernelspec": {
      "name": "python3",
      "display_name": "Python 3"
    },
    "language_info": {
      "name": "python"
    },
    "accelerator": "GPU",
    "gpuClass": "standard"
  },
  "cells": [
    {
      "cell_type": "code",
      "execution_count": null,
      "metadata": {
        "id": "kgGHrSfkNGxg"
      },
      "outputs": [],
      "source": [
        "!pip install detecto"
      ]
    },
    {
      "cell_type": "code",
      "source": [
        "import os\n",
        "import torch\n",
        "from detecto import core, utils, visualize\n",
        "from detecto.visualize import show_labeled_image, plot_prediction_grid\n",
        "from torchvision import transforms\n",
        "import matplotlib.pyplot as plt\n",
        "import numpy as np"
      ],
      "metadata": {
        "id": "X_crcFOyNj1G"
      },
      "execution_count": null,
      "outputs": []
    },
    {
      "cell_type": "code",
      "source": [
        "custom_transforms = transforms.Compose([\n",
        "transforms.ToPILImage(),\n",
        "transforms.ToTensor(),\n",
        "utils.normalize_transform(),\n",
        "])"
      ],
      "metadata": {
        "id": "hZSBhdamNka6"
      },
      "execution_count": null,
      "outputs": []
    },
    {
      "cell_type": "code",
      "source": [
        "# https://universe.roboflow.com/mail-vanbergeijk/frc2023-935\n",
        "# https://universe.roboflow.com/michael-jansen/frc-charged-up-game-pieces/dataset/7\n",
        "# https://universe.roboflow.com/fear1/chargedup-2023/dataset/3\n",
        "# https://universe.roboflow.com/rawpower9-g6akz/cube-cube-det/dataset/6\n",
        "\n",
        "# By far, the repo with the robots is the best one\n",
        "!curl -L \"https://universe.roboflow.com/ds/APxN012PDp?key=zfOj8HoVPe\" > roboflow.zip; unzip roboflow.zip; rm roboflow.zip"
      ],
      "metadata": {
        "id": "f79Rk9W4Nogf"
      },
      "execution_count": null,
      "outputs": []
    },
    {
      "cell_type": "code",
      "source": [
        "cwd = './'"
      ],
      "metadata": {
        "id": "2tmwKl0SOi5q"
      },
      "execution_count": null,
      "outputs": []
    },
    {
      "cell_type": "code",
      "source": [
        "Train_dataset=core.Dataset(cwd+'train',transform=custom_transforms)\n",
        "Test_dataset=core.Dataset(cwd+'valid',transform=custom_transforms)\n",
        "print(\"Size of Training Set: \" + str(len(Train_dataset)))\n",
        "print(\"Size of Testing Set: \" + str(len(Test_dataset)))\n",
        "Train_dataset[0][0].size()"
      ],
      "metadata": {
        "id": "XHMYMBIjOj73"
      },
      "execution_count": null,
      "outputs": []
    },
    {
      "cell_type": "code",
      "source": [
        "training_loader=core.DataLoader(Train_dataset, batch_size=32, shuffle=True)\n",
        "validation_loader=core.DataLoader(Test_dataset, batch_size=32, shuffle=True)"
      ],
      "metadata": {
        "id": "UQDNO2jlOqXq"
      },
      "execution_count": null,
      "outputs": []
    },
    {
      "cell_type": "code",
      "source": [
        "from detecto.core import Model\n",
        "model_base = core.Model(['cone', 'cube', 'robot'], model_name= \"fasterrcnn_mobilenet_v3_large_320_fpn\")\n",
        "# model_base = core.Model(['cone', 'cube', 'robot'])\n",
        "model_base.get_internal_model().load_state_dict(torch.load('/content/model_cone_cube_50_epoch_60_percent.pth', map_location=model_base._device))"
      ],
      "metadata": {
        "id": "rRI0BK0JPKj7"
      },
      "execution_count": null,
      "outputs": []
    },
    {
      "cell_type": "code",
      "source": [
        "# Low learning rate is needed, trained 10 epochs each while increasing learning_rate\n",
        "losses = model_base.fit(training_loader, Test_dataset, epochs=50, lr_step_size=10, learning_rate=0.0000024, verbose=True)"
      ],
      "metadata": {
        "id": "OUJ0OQfIPXKy"
      },
      "execution_count": null,
      "outputs": []
    },
    {
      "cell_type": "code",
      "source": [
        "model_base.save('model_bot_weights.pth')"
      ],
      "metadata": {
        "id": "kGtTXPOKPdLP"
      },
      "execution_count": null,
      "outputs": []
    },
    {
      "cell_type": "code",
      "source": [
        "plt.plot(losses)\n",
        "plt.show()"
      ],
      "metadata": {
        "id": "gH2YoedpPhCs"
      },
      "execution_count": null,
      "outputs": []
    },
    {
      "cell_type": "code",
      "source": [
        "# image = utils.read_image('/content/test/PC060070_JPG.rf.c9c5ff945741674593f4ce3ec5f3bea6.jpg')\n",
        "image = utils.read_image('/content/shadedmodel.png')\n",
        "from detecto.core import Model\n",
        "import cv2\n",
        "import numpy as np\n",
        "\n",
        "# image = cv2.resize(image, dsize=(320, 320), interpolation=cv2.INTER_CUBIC)\n",
        "predictions = model_base.predict(image)\n",
        "labels, boxes, scores = predictions\n",
        "thresh=0.3\n",
        "filtered_indices=np.where(scores>thresh)\n",
        "filtered_scores=scores[filtered_indices]\n",
        "filtered_boxes=boxes[filtered_indices]\n",
        "num_list = filtered_indices[0].tolist()\n",
        "filtered_labels = [labels[i] for i in num_list]\n",
        "show_labeled_image(image, filtered_boxes, filtered_labels)"
      ],
      "metadata": {
        "id": "KIJoZXUmPjk_"
      },
      "execution_count": null,
      "outputs": []
    },
    {
      "cell_type": "code",
      "source": [],
      "metadata": {
        "id": "eJjGf_Z9aPtk"
      },
      "execution_count": null,
      "outputs": []
    }
  ]
}